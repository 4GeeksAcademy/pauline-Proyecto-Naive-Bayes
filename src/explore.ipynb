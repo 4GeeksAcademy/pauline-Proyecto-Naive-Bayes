{
    "cells": [
        {
            "cell_type": "markdown",
            "metadata": {},
            "source": [
                "# Explore here"
            ]
        },
        {
            "cell_type": "code",
            "execution_count": 215,
            "metadata": {},
            "outputs": [],
            "source": [
                "# Your code here\n",
                "import pandas as pd\n",
                "import numpy as np\n",
                "import matplotlib.pyplot as plt\n",
                "from sklearn.model_selection import train_test_split\n",
                "from sklearn.feature_extraction.text import CountVectorizer\n",
                "from sklearn.naive_bayes import MultinomialNB,GaussianNB,BernoulliNB\n",
                "from sklearn.metrics import classification_report\n",
                "from sklearn.metrics import accuracy_score\n"
            ]
        },
        {
            "cell_type": "code",
            "execution_count": 205,
            "metadata": {},
            "outputs": [
                {
                    "data": {
                        "text/html": [
                            "<div>\n",
                            "<style scoped>\n",
                            "    .dataframe tbody tr th:only-of-type {\n",
                            "        vertical-align: middle;\n",
                            "    }\n",
                            "\n",
                            "    .dataframe tbody tr th {\n",
                            "        vertical-align: top;\n",
                            "    }\n",
                            "\n",
                            "    .dataframe thead th {\n",
                            "        text-align: right;\n",
                            "    }\n",
                            "</style>\n",
                            "<table border=\"1\" class=\"dataframe\">\n",
                            "  <thead>\n",
                            "    <tr style=\"text-align: right;\">\n",
                            "      <th></th>\n",
                            "      <th>review</th>\n",
                            "      <th>polarity</th>\n",
                            "    </tr>\n",
                            "  </thead>\n",
                            "  <tbody>\n",
                            "    <tr>\n",
                            "      <th>0</th>\n",
                            "      <td>privacy at least put some option appear offli...</td>\n",
                            "      <td>0</td>\n",
                            "    </tr>\n",
                            "    <tr>\n",
                            "      <th>1</th>\n",
                            "      <td>messenger issues ever since the last update, ...</td>\n",
                            "      <td>0</td>\n",
                            "    </tr>\n",
                            "    <tr>\n",
                            "      <th>2</th>\n",
                            "      <td>profile any time my wife or anybody has more ...</td>\n",
                            "      <td>0</td>\n",
                            "    </tr>\n",
                            "    <tr>\n",
                            "      <th>3</th>\n",
                            "      <td>the new features suck for those of us who don...</td>\n",
                            "      <td>0</td>\n",
                            "    </tr>\n",
                            "    <tr>\n",
                            "      <th>4</th>\n",
                            "      <td>forced reload on uploading pic on replying co...</td>\n",
                            "      <td>0</td>\n",
                            "    </tr>\n",
                            "  </tbody>\n",
                            "</table>\n",
                            "</div>"
                        ],
                        "text/plain": [
                            "                                              review  polarity\n",
                            "0   privacy at least put some option appear offli...         0\n",
                            "1   messenger issues ever since the last update, ...         0\n",
                            "2   profile any time my wife or anybody has more ...         0\n",
                            "3   the new features suck for those of us who don...         0\n",
                            "4   forced reload on uploading pic on replying co...         0"
                        ]
                    },
                    "execution_count": 205,
                    "metadata": {},
                    "output_type": "execute_result"
                }
            ],
            "source": [
                "df = pd.read_csv('/workspaces/pauline-Proyecto-Naive-Bayes/data/raw/playstore_reviews.csv')\n",
                "#Como dicho en las instrucciones, eliminamos package_name, ya que de eso no depende la clasificación de la reseña\n",
                "df.drop(['package_name'], axis=1, inplace=True)\n",
                "df.head()"
            ]
        },
        {
            "cell_type": "code",
            "execution_count": 206,
            "metadata": {},
            "outputs": [
                {
                    "name": "stdout",
                    "output_type": "stream",
                    "text": [
                        "(891, 2)\n",
                        "<class 'pandas.core.frame.DataFrame'>\n",
                        "RangeIndex: 891 entries, 0 to 890\n",
                        "Data columns (total 2 columns):\n",
                        " #   Column    Non-Null Count  Dtype \n",
                        "---  ------    --------------  ----- \n",
                        " 0   review    891 non-null    object\n",
                        " 1   polarity  891 non-null    int64 \n",
                        "dtypes: int64(1), object(1)\n",
                        "memory usage: 14.0+ KB\n",
                        "None\n"
                    ]
                },
                {
                    "data": {
                        "text/plain": [
                            "0"
                        ]
                    },
                    "execution_count": 206,
                    "metadata": {},
                    "output_type": "execute_result"
                }
            ],
            "source": [
                "#Quiero saber cuantas filas hay :\n",
                "print(df.shape)\n",
                "#Tipo de data y check si hay nulos/faltantes\n",
                "print(df.info())\n",
                "# Revisamos que no haya fila duplicada:\n",
                "sum(df.duplicated())"
            ]
        },
        {
            "cell_type": "code",
            "execution_count": 207,
            "metadata": {},
            "outputs": [],
            "source": [
                "#Eliminar espacios y convertir a minúsculas el texto: \n",
                "df[\"review\"] = df[\"review\"].str.strip().str.lower()\n",
                "\n",
                "#Y dividimos los datos en conjuntos de entrenamiento y testeo\n",
                "X = df['review']\n",
                "y = df[['polarity']]\n",
                "X_train, X_test, y_train, y_test = train_test_split(X, y, test_size=0.2, random_state=42)\n"
            ]
        },
        {
            "cell_type": "code",
            "execution_count": 208,
            "metadata": {},
            "outputs": [
                {
                    "data": {
                        "text/plain": [
                            "331    just did the latest update on viber and yet ag...\n",
                            "733    keeps crashing it only works well in extreme d...\n",
                            "382    the fail boat has arrived the 6.0 version is t...\n",
                            "704    superfast, just as i remember it ! opera mini ...\n",
                            "813    installed and immediately deleted this crap i ...\n",
                            "Name: review, dtype: object"
                        ]
                    },
                    "execution_count": 208,
                    "metadata": {},
                    "output_type": "execute_result"
                }
            ],
            "source": [
                "X_train.head()"
            ]
        },
        {
            "cell_type": "code",
            "execution_count": 209,
            "metadata": {},
            "outputs": [],
            "source": [
                "vectorizer = CountVectorizer(stop_words = \"english\") #ese de stop_word se usa para eliminar las palabras más comunes y sin valor informativo\n",
                "X_train_vec = vectorizer.fit_transform(X_train)\n",
                "X_test_vec = vectorizer.transform(X_test)\n",
                "\n"
            ]
        },
        {
            "cell_type": "code",
            "execution_count": 210,
            "metadata": {},
            "outputs": [
                {
                    "data": {
                        "text/plain": [
                            "array(['000', '04', '0x', ..., 'žŕ', 'žŕľ', 'ˇŕ'],\n",
                            "      shape=(3310,), dtype=object)"
                        ]
                    },
                    "execution_count": 210,
                    "metadata": {},
                    "output_type": "execute_result"
                }
            ],
            "source": [
                "#Chequeamos con algunas palabras o características que han sido extraídas del texto durante el proceso de \"vectorización\".\n",
                "vectorizer.get_feature_names_out()\n"
            ]
        },
        {
            "cell_type": "code",
            "execution_count": 211,
            "metadata": {},
            "outputs": [
                {
                    "data": {
                        "text/plain": [
                            "array([0, 0, 0, ..., 0, 0, 0], shape=(3310,))"
                        ]
                    },
                    "execution_count": 211,
                    "metadata": {},
                    "output_type": "execute_result"
                }
            ],
            "source": [
                "X_test_vec.toarray()[1]"
            ]
        },
        {
            "cell_type": "code",
            "execution_count": 212,
            "metadata": {},
            "outputs": [
                {
                    "name": "stdout",
                    "output_type": "stream",
                    "text": [
                        "Review de prueba: whatsapp i use this app now that blackberry messenger has basically gone away. my friends & family live all over the world. this really helps keep us in touch!\n",
                        "\n",
                        "Palabras del conjunto de entrenamiento que también aparecen en la review de test junto con su aparición:\n",
                        "\n",
                        "Palabra: \"app\"\n",
                        "--> Aparece 1 veces en la review.\n",
                        "Palabra: \"away\"\n",
                        "--> Aparece 1 veces en la review.\n",
                        "Palabra: \"basically\"\n",
                        "--> Aparece 1 veces en la review.\n",
                        "Palabra: \"family\"\n",
                        "--> Aparece 1 veces en la review.\n",
                        "Palabra: \"friends\"\n",
                        "--> Aparece 1 veces en la review.\n",
                        "Palabra: \"gone\"\n",
                        "--> Aparece 1 veces en la review.\n",
                        "Palabra: \"helps\"\n",
                        "--> Aparece 1 veces en la review.\n",
                        "Palabra: \"live\"\n",
                        "--> Aparece 1 veces en la review.\n",
                        "Palabra: \"messenger\"\n",
                        "--> Aparece 1 veces en la review.\n",
                        "Palabra: \"really\"\n",
                        "--> Aparece 1 veces en la review.\n",
                        "Palabra: \"touch\"\n",
                        "--> Aparece 1 veces en la review.\n",
                        "Palabra: \"use\"\n",
                        "--> Aparece 1 veces en la review.\n",
                        "Palabra: \"whatsapp\"\n",
                        "--> Aparece 1 veces en la review.\n",
                        "Palabra: \"world\"\n",
                        "--> Aparece 1 veces en la review.\n"
                    ]
                }
            ],
            "source": [
                "#Mostrar una review de prueba (texto)\n",
                "print(f'Review de prueba: {X_test.iloc[1]}')\n",
                "\n",
                "\n",
                "print('\\nPalabras del conjunto de entrenamiento que también aparecen en la review de test junto con su aparición:\\n')\n",
                "for i, cont in enumerate(X_test_vec.toarray()[1]):\n",
                "  if cont!=0:\n",
                "    print(f'Palabra: \"{vectorizer.get_feature_names_out()[i]}\"')\n",
                "    print(f'--> Aparece {cont} veces en la review.')\n"
            ]
        },
        {
            "cell_type": "markdown",
            "metadata": {},
            "source": [
                "**Paso 3: Construye un naive bayes.** Elegimos **Multinomial** porque variable predictora es categorica, con varias posibilidades.   (Gauss es para regresion y Bernoulli cuando las variables son binarias)."
            ]
        },
        {
            "cell_type": "code",
            "execution_count": 218,
            "metadata": {},
            "outputs": [
                {
                    "name": "stdout",
                    "output_type": "stream",
                    "text": [
                        "Evaluación del modelo:               precision    recall  f1-score   support\n",
                        "\n",
                        "           0       0.84      0.90      0.87       126\n",
                        "           1       0.73      0.60      0.66        53\n",
                        "\n",
                        "    accuracy                           0.82       179\n",
                        "   macro avg       0.79      0.75      0.77       179\n",
                        "weighted avg       0.81      0.82      0.81       179\n",
                        "\n",
                        "\n",
                        "Accuracy: 0.8156424581005587\n"
                    ]
                },
                {
                    "name": "stderr",
                    "output_type": "stream",
                    "text": [
                        "/home/vscode/.local/lib/python3.10/site-packages/sklearn/utils/validation.py:1408: DataConversionWarning: A column-vector y was passed when a 1d array was expected. Please change the shape of y to (n_samples, ), for example using ravel().\n",
                        "  y = column_or_1d(y, warn=True)\n"
                    ]
                }
            ],
            "source": [
                "#Inicializar y entrenar el clasificador Naive Bayes Multinomial\n",
                "clf = MultinomialNB().fit(X_train_vec, y_train)\n",
                "\n",
                "# Realizar predicciones en el conjunto de prueba\n",
                "y_pred = clf.predict(X_test_vec)\n",
                "\n",
                "\n",
                "# Evaluar el rendimiento del modelo\n",
                "\n",
                "print(f'Evaluación del modelo: {classification_report(y_test, y_pred)}\\n')\n",
                "print(f'Accuracy: {accuracy_score(y_test, y_pred)}')\n",
                "\n",
                "\n",
                "\n",
                "\n"
            ]
        },
        {
            "cell_type": "markdown",
            "metadata": {},
            "source": [
                "Testeamos los 2 otros\n",
                "- **GAUSS**:\n"
            ]
        },
        {
            "cell_type": "code",
            "execution_count": 219,
            "metadata": {},
            "outputs": [
                {
                    "name": "stdout",
                    "output_type": "stream",
                    "text": [
                        "Evaluación del modelo:               precision    recall  f1-score   support\n",
                        "\n",
                        "           0       0.85      0.88      0.86       126\n",
                        "           1       0.69      0.62      0.65        53\n",
                        "\n",
                        "    accuracy                           0.80       179\n",
                        "   macro avg       0.77      0.75      0.76       179\n",
                        "weighted avg       0.80      0.80      0.80       179\n",
                        "\n",
                        "\n",
                        "Accuracy: 0.8044692737430168\n"
                    ]
                },
                {
                    "name": "stderr",
                    "output_type": "stream",
                    "text": [
                        "/home/vscode/.local/lib/python3.10/site-packages/sklearn/utils/validation.py:1408: DataConversionWarning: A column-vector y was passed when a 1d array was expected. Please change the shape of y to (n_samples, ), for example using ravel().\n",
                        "  y = column_or_1d(y, warn=True)\n"
                    ]
                }
            ],
            "source": [
                "#probamos con los 2 otros : \n",
                "\n",
                "#Inicializar y entrenar el clasificador Naive GaussianNB\n",
                "clf = GaussianNB().fit(X_train_vec.toarray(), y_train)\n",
                "\n",
                "# Realizar predicciones en el conjunto de prueba\n",
                "y_pred_gauss = clf.predict(X_test_vec.toarray())\n",
                "\n",
                "\n",
                "# Evaluar el rendimiento del modelo\n",
                "\n",
                "print(f'Evaluación del modelo: {classification_report(y_test, y_pred_gauss)}\\n')\n",
                "print(f'Accuracy: {accuracy_score(y_test, y_pred_gauss)}')\n"
            ]
        },
        {
            "cell_type": "markdown",
            "metadata": {},
            "source": [
                "- BERNOUILLI"
            ]
        },
        {
            "cell_type": "code",
            "execution_count": 222,
            "metadata": {},
            "outputs": [
                {
                    "ename": "AttributeError",
                    "evalue": "'numpy.ndarray' object has no attribute '_validate_params'",
                    "output_type": "error",
                    "traceback": [
                        "\u001b[0;31m---------------------------------------------------------------------------\u001b[0m",
                        "\u001b[0;31mAttributeError\u001b[0m                            Traceback (most recent call last)",
                        "Cell \u001b[0;32mIn[222], line 2\u001b[0m\n\u001b[1;32m      1\u001b[0m \u001b[38;5;66;03m#Inicializar y entrenar el clasificador Naive GaussianNB\u001b[39;00m\n\u001b[0;32m----> 2\u001b[0m clf \u001b[38;5;241m=\u001b[39m \u001b[43mBernoulliNB\u001b[49m\u001b[38;5;241;43m.\u001b[39;49m\u001b[43mfit\u001b[49m\u001b[43m(\u001b[49m\u001b[43mX_train_vec\u001b[49m\u001b[38;5;241;43m.\u001b[39;49m\u001b[43mtoarray\u001b[49m\u001b[43m(\u001b[49m\u001b[43m)\u001b[49m\u001b[43m,\u001b[49m\u001b[43m \u001b[49m\u001b[43my_train\u001b[49m\u001b[43m)\u001b[49m\n\u001b[1;32m      4\u001b[0m \u001b[38;5;66;03m# Realizar predicciones en el conjunto de prueba\u001b[39;00m\n\u001b[1;32m      5\u001b[0m y_pred_ber \u001b[38;5;241m=\u001b[39m clf\u001b[38;5;241m.\u001b[39mpredict(X_test_vec\u001b[38;5;241m.\u001b[39mtoarray())\n",
                        "File \u001b[0;32m~/.local/lib/python3.10/site-packages/sklearn/base.py:1382\u001b[0m, in \u001b[0;36m_fit_context.<locals>.decorator.<locals>.wrapper\u001b[0;34m(estimator, *args, **kwargs)\u001b[0m\n\u001b[1;32m   1377\u001b[0m partial_fit_and_fitted \u001b[38;5;241m=\u001b[39m (\n\u001b[1;32m   1378\u001b[0m     fit_method\u001b[38;5;241m.\u001b[39m\u001b[38;5;18m__name__\u001b[39m \u001b[38;5;241m==\u001b[39m \u001b[38;5;124m\"\u001b[39m\u001b[38;5;124mpartial_fit\u001b[39m\u001b[38;5;124m\"\u001b[39m \u001b[38;5;129;01mand\u001b[39;00m _is_fitted(estimator)\n\u001b[1;32m   1379\u001b[0m )\n\u001b[1;32m   1381\u001b[0m \u001b[38;5;28;01mif\u001b[39;00m \u001b[38;5;129;01mnot\u001b[39;00m global_skip_validation \u001b[38;5;129;01mand\u001b[39;00m \u001b[38;5;129;01mnot\u001b[39;00m partial_fit_and_fitted:\n\u001b[0;32m-> 1382\u001b[0m     \u001b[43mestimator\u001b[49m\u001b[38;5;241;43m.\u001b[39;49m\u001b[43m_validate_params\u001b[49m()\n\u001b[1;32m   1384\u001b[0m \u001b[38;5;28;01mwith\u001b[39;00m config_context(\n\u001b[1;32m   1385\u001b[0m     skip_parameter_validation\u001b[38;5;241m=\u001b[39m(\n\u001b[1;32m   1386\u001b[0m         prefer_skip_nested_validation \u001b[38;5;129;01mor\u001b[39;00m global_skip_validation\n\u001b[1;32m   1387\u001b[0m     )\n\u001b[1;32m   1388\u001b[0m ):\n\u001b[1;32m   1389\u001b[0m     \u001b[38;5;28;01mreturn\u001b[39;00m fit_method(estimator, \u001b[38;5;241m*\u001b[39margs, \u001b[38;5;241m*\u001b[39m\u001b[38;5;241m*\u001b[39mkwargs)\n",
                        "\u001b[0;31mAttributeError\u001b[0m: 'numpy.ndarray' object has no attribute '_validate_params'"
                    ]
                }
            ],
            "source": [
                "#Inicializar y entrenar el clasificador Naive GaussianNB\n",
                "clf = BernoulliNB\n",
                "clf.fit(X_train_vec.toarray(), y_train) \n",
                "\n",
                "# Realizar predicciones en el conjunto de prueba\n",
                "y_pred_ber = clf.predict(X_test_vec.toarray())\n",
                "\n",
                "\n",
                "# Evaluar el rendimiento del modelo\n",
                "\n",
                "print(f'Evaluación del modelo: {classification_report(y_test, y_pred_ber)}\\n')\n",
                "print(f'Accuracy: {accuracy_score(y_test, y_pred_ber)}')"
            ]
        },
        {
            "cell_type": "code",
            "execution_count": null,
            "metadata": {},
            "outputs": [],
            "source": []
        }
    ],
    "metadata": {
        "kernelspec": {
            "display_name": "Python 3",
            "language": "python",
            "name": "python3"
        },
        "language_info": {
            "codemirror_mode": {
                "name": "ipython",
                "version": 3
            },
            "file_extension": ".py",
            "mimetype": "text/x-python",
            "name": "python",
            "nbconvert_exporter": "python",
            "pygments_lexer": "ipython3",
            "version": "3.10.12"
        },
        "orig_nbformat": 4
    },
    "nbformat": 4,
    "nbformat_minor": 2
}
